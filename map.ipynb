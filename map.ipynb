{
  "cells": [
    {
      "cell_type": "code",
      "execution_count": null,
      "metadata": {
        "colab": {
          "base_uri": "https://localhost:8080/"
        },
        "id": "pAXe89zFc_iR",
        "outputId": "59c8d11c-090b-4dd1-f221-d688e571479d"
      },
      "outputs": [
        {
          "output_type": "stream",
          "name": "stdout",
          "text": [
            "Mounted at /content/drive\n"
          ]
        }
      ],
      "source": [
        "from google.colab import drive\n",
        "drive.mount('/content/drive')"
      ]
    },
    {
      "cell_type": "code",
      "execution_count": null,
      "metadata": {
        "colab": {
          "base_uri": "https://localhost:8080/"
        },
        "id": "fAx_P8LKGtOs",
        "outputId": "fefaf9d8-a5ca-4ad3-bc68-b0d3ac67f454"
      },
      "outputs": [
        {
          "output_type": "stream",
          "name": "stdout",
          "text": [
            "Looking in indexes: https://pypi.org/simple, https://us-python.pkg.dev/colab-wheels/public/simple/\n",
            "Collecting pyspark\n",
            "  Downloading pyspark-3.3.1.tar.gz (281.4 MB)\n",
            "\u001b[K     |████████████████████████████████| 281.4 MB 42 kB/s \n",
            "\u001b[?25hCollecting py4j==0.10.9.5\n",
            "  Downloading py4j-0.10.9.5-py2.py3-none-any.whl (199 kB)\n",
            "\u001b[K     |████████████████████████████████| 199 kB 52.9 MB/s \n",
            "\u001b[?25hBuilding wheels for collected packages: pyspark\n",
            "  Building wheel for pyspark (setup.py) ... \u001b[?25l\u001b[?25hdone\n",
            "  Created wheel for pyspark: filename=pyspark-3.3.1-py2.py3-none-any.whl size=281845514 sha256=111518583671756f00e0004cd748dcd6785014106f335d63d5b034c83c8b6835\n",
            "  Stored in directory: /root/.cache/pip/wheels/42/59/f5/79a5bf931714dcd201b26025347785f087370a10a3329a899c\n",
            "Successfully built pyspark\n",
            "Installing collected packages: py4j, pyspark\n",
            "Successfully installed py4j-0.10.9.5 pyspark-3.3.1\n"
          ]
        }
      ],
      "source": [
        "!pip install pyspark"
      ]
    },
    {
      "cell_type": "code",
      "execution_count": null,
      "metadata": {
        "id": "tBjT9XNWbaxz"
      },
      "outputs": [],
      "source": [
        "# import SparkContext and SparkSession and other utilities\n",
        "from pyspark.sql import SparkSession\n",
        "from pyspark import SparkContext\n",
        "from pyspark.sql.functions import col, udf, spark_partition_id, explode, count\n",
        "from pyspark.sql.types import ArrayType, StringType\n",
        "from pyspark import StorageLevel"
      ]
    },
    {
      "cell_type": "code",
      "execution_count": null,
      "metadata": {
        "id": "983xasdIbax0"
      },
      "outputs": [],
      "source": [
        "# create SparkSession\n",
        "spark = SparkSession.builder.master(\"local\").appName('loading').getOrCreate()\n"
      ]
    },
    {
      "cell_type": "code",
      "execution_count": null,
      "metadata": {
        "colab": {
          "base_uri": "https://localhost:8080/",
          "height": 220
        },
        "id": "ZzREFM5DdWN4",
        "outputId": "a0c22599-70f5-4323-8f83-58731998bd67"
      },
      "outputs": [
        {
          "output_type": "execute_result",
          "data": {
            "text/plain": [
              "<pyspark.sql.session.SparkSession at 0x7fb2877334d0>"
            ],
            "text/html": [
              "\n",
              "            <div>\n",
              "                <p><b>SparkSession - in-memory</b></p>\n",
              "                \n",
              "        <div>\n",
              "            <p><b>SparkContext</b></p>\n",
              "\n",
              "            <p><a href=\"http://b83a1d25cd86:4040\">Spark UI</a></p>\n",
              "\n",
              "            <dl>\n",
              "              <dt>Version</dt>\n",
              "                <dd><code>v3.3.1</code></dd>\n",
              "              <dt>Master</dt>\n",
              "                <dd><code>local</code></dd>\n",
              "              <dt>AppName</dt>\n",
              "                <dd><code>loading</code></dd>\n",
              "            </dl>\n",
              "        </div>\n",
              "        \n",
              "            </div>\n",
              "        "
            ]
          },
          "metadata": {},
          "execution_count": 5
        }
      ],
      "source": [
        "spark"
      ]
    },
    {
      "cell_type": "code",
      "execution_count": null,
      "metadata": {
        "colab": {
          "base_uri": "https://localhost:8080/"
        },
        "id": "hrvCprhTpN-7",
        "outputId": "aa4c1488-8d3a-4a60-b2b6-e09bf156c99a"
      },
      "outputs": [
        {
          "output_type": "stream",
          "name": "stdout",
          "text": [
            "mapreduce\t     World2022-04-27.csv  World2022-04-29.csv\n",
            "World2022-04-26.csv  World2022-04-28.csv  World2022-04-30.csv\n"
          ]
        }
      ],
      "source": [
        "!ls drive/MyDrive/data/"
      ]
    },
    {
      "cell_type": "code",
      "execution_count": null,
      "metadata": {
        "id": "OV5Pf7s4i_Wf"
      },
      "outputs": [],
      "source": [
        "def eval_list(x):\n",
        "    return eval(x)"
      ]
    },
    {
      "cell_type": "code",
      "execution_count": null,
      "metadata": {
        "id": "Az8IR2eqi5fs"
      },
      "outputs": [],
      "source": [
        "# read data\n",
        "df = spark.read.csv(f'drive/MyDrive/data/World2022-04-28.csv', header=False, inferSchema=True)\n",
        "# make it a pyspark dataframe\n",
        "df = df.toDF('viewers', 'streamer', 'date', 'category', 'viewership', 'language')\n",
        "# define the udf\n",
        "eval_list_udf = udf(eval_list, ArrayType(StringType()))\n",
        "# apply the udf to the column\n",
        "df = df.withColumn('viewers', eval_list_udf(col('viewers')))\n",
        "# drop useless columns\n",
        "df = df.drop('viewership', 'language', 'date', 'category')\n",
        "# explode the viewers\n",
        "df = df.withColumn('viewers', explode(df.viewers))\n",
        "# group by (viewer, streamer)\n",
        "df = df \\\n",
        "    .groupBy(\"viewers\", \"streamer\") \\\n",
        "    .agg(count(\"viewers\").alias(\"comptage\")) \\\n",
        "    .orderBy(col(\"comptage\").desc()) \\\n",
        "    .where(col(\"comptage\") >= 4)\n",
        "# write csv\n",
        "df.write.csv(\"mapreduce\", mode='append')"
      ]
    },
    {
      "cell_type": "code",
      "source": [
        "# read data\n",
        "df = spark.read.csv(f'drive/MyDrive/data/World2022-04-29.csv', header=False, inferSchema=True)\n",
        "# make it a pyspark dataframe\n",
        "df = df.toDF('viewers', 'streamer', 'date', 'category', 'viewership', 'language')\n",
        "# define the udf\n",
        "eval_list_udf = udf(eval_list, ArrayType(StringType()))\n",
        "# apply the udf to the column\n",
        "df = df.withColumn('viewers', eval_list_udf(col('viewers')))\n",
        "# drop useless columns\n",
        "df = df.drop('viewership', 'language', 'date', 'category')\n",
        "# explode the viewers\n",
        "df = df.withColumn('viewers', explode(df.viewers))\n",
        "# group by (viewer, streamer)\n",
        "df = df \\\n",
        "    .groupBy(\"viewers\", \"streamer\") \\\n",
        "    .agg(count(\"viewers\").alias(\"comptage\")) \\\n",
        "    .orderBy(col(\"comptage\").desc()) \\\n",
        "    .where(col(\"comptage\") >= 4)\n",
        "# write csv\n",
        "df.write.csv(\"mapreduce\", mode='append')"
      ],
      "metadata": {
        "id": "w6V6FYLbHQnO"
      },
      "execution_count": null,
      "outputs": []
    },
    {
      "cell_type": "code",
      "source": [
        "# read data\n",
        "df = spark.read.csv(f'drive/MyDrive/data/World2022-04-30.csv', header=False, inferSchema=True)\n",
        "# make it a pyspark dataframe\n",
        "df = df.toDF('viewers', 'streamer', 'date', 'category', 'viewership', 'language')\n",
        "# define the udf\n",
        "eval_list_udf = udf(eval_list, ArrayType(StringType()))\n",
        "# apply the udf to the column\n",
        "df = df.withColumn('viewers', eval_list_udf(col('viewers')))\n",
        "# drop useless columns\n",
        "df = df.drop('viewership', 'language', 'date', 'category')\n",
        "# explode the viewers\n",
        "df = df.withColumn('viewers', explode(df.viewers))\n",
        "# group by (viewer, streamer)\n",
        "df = df \\\n",
        "    .groupBy(\"viewers\", \"streamer\") \\\n",
        "    .agg(count(\"viewers\").alias(\"comptage\")) \\\n",
        "    .orderBy(col(\"comptage\").desc()) \\\n",
        "    .where(col(\"comptage\") >= 4)\n",
        "# write csv\n",
        "df.write.csv(\"mapreduce\", mode='append')"
      ],
      "metadata": {
        "id": "9L_wOKS8HSEF"
      },
      "execution_count": null,
      "outputs": []
    },
    {
      "cell_type": "code",
      "execution_count": null,
      "metadata": {
        "colab": {
          "base_uri": "https://localhost:8080/"
        },
        "id": "JajqkdnWHiJk",
        "outputId": "434ef13c-4f30-454d-cd64-37f643b9c311"
      },
      "outputs": [
        {
          "output_type": "stream",
          "name": "stdout",
          "text": [
            "_SUCCESS\n"
          ]
        }
      ],
      "source": [
        "!ls mapreduce/"
      ]
    },
    {
      "cell_type": "code",
      "execution_count": null,
      "metadata": {
        "id": "kz--72Ikm5mm"
      },
      "outputs": [],
      "source": [
        "!mv mapreduce/*.csv drive/MyDrive/data/mapreduce/"
      ]
    },
    {
      "cell_type": "markdown",
      "metadata": {
        "id": "GDhUUZstjnJt"
      },
      "source": [
        "# STEP BY STEP"
      ]
    },
    {
      "cell_type": "code",
      "execution_count": null,
      "metadata": {
        "id": "cqcZUajwdXOf"
      },
      "outputs": [],
      "source": [
        "df = spark.read.csv('drive/MyDrive/data/World2022-04-1.csv', header=False, inferSchema=True)"
      ]
    },
    {
      "cell_type": "code",
      "execution_count": null,
      "metadata": {
        "id": "RVTAW7tubax1"
      },
      "outputs": [],
      "source": [
        "df = df.toDF('viewers', 'streamer', 'date', 'category', 'viewership', 'language')\n"
      ]
    },
    {
      "cell_type": "code",
      "execution_count": null,
      "metadata": {
        "colab": {
          "base_uri": "https://localhost:8080/"
        },
        "id": "yL7JoI7ybax1",
        "outputId": "abb8be76-97d8-43e5-fff6-59f72080b015"
      },
      "outputs": [
        {
          "name": "stdout",
          "output_type": "stream",
          "text": [
            "+--------------------+---------------+-------------------+-------------------+----------+--------+\n",
            "|             viewers|       streamer|               date|           category|viewership|language|\n",
            "+--------------------+---------------+-------------------+-------------------+----------+--------+\n",
            "|['0000moonlight',...|          Emiru|2022-04-01 00:00:03|      Just Chatting|     45368|      en|\n",
            "|['000_fnwortas_00...|       ROSHTEIN|2022-04-01 00:00:03|              Slots|     34077|      en|\n",
            "|['000jp', '00od',...|       HasanAbi|2022-04-01 00:00:03|      Just Chatting|     30861|      en|\n",
            "|['000008', '003ra...|TSM_ImperialHal|2022-04-01 00:00:03|       Apex Legends|     29138|      en|\n",
            "|['0000_kevin0000'...|       alanzoka|2022-04-01 00:00:03|Midnight Ghost Hunt|     28314|      pt|\n",
            "|['007dosul_salve'...|         Gaules|2022-04-01 00:00:03|             Sports|     27691|      pt|\n",
            "|['00xhe', '03gpwa...|      loltyler1|2022-04-01 00:00:03|  League of Legends|     24670|      en|\n",
            "|['000_jrakpm', '0...|       IlloJuan|2022-04-01 00:00:03|               DayZ|     23437|      es|\n",
            "|['0000paul0000', ...|       eliasn97|2022-04-01 00:00:03|      Just Chatting|     23274|      de|\n",
            "|['007charg', '00_...|        elxokas|2022-04-01 00:00:03|           Fortnite|     21638|      es|\n",
            "|['009988776655443...|       summit1g|2022-04-01 00:00:03|     Sea of Thieves|     19868|      en|\n",
            "|['009soundsystemd...|       Jerma985|2022-04-01 00:00:03|           Pictopix|     19676|      en|\n",
            "|['0000_shadow', '...|         Zerkaa|2022-04-01 00:00:03| Grand Theft Auto V|     18419|      en|\n",
            "|['0000_udinrosli'...|         buddha|2022-04-01 00:00:03| Grand Theft Auto V|     18298|      en|\n",
            "|['3randinoo', '50...|       DoorDash|2022-04-01 00:00:03|           NBA 2K22|     17424|      en|\n",
            "|['000_moon_000', ...|          tarik|2022-04-01 00:00:03|           VALORANT|     17289|      en|\n",
            "|['00000321', '007...|       Warframe|2022-04-01 00:00:03|           Warframe|     15717|      en|\n",
            "|['00bai', '00tomm...|         shroud|2022-04-01 00:00:03|       Apex Legends|     14957|      en|\n",
            "|['000000kijima', ...|   加藤純一です|2022-04-01 00:00:03|       Apex Legends|     14001|      ja|\n",
            "|['00japa00', '01m...|           YoDa|2022-04-01 00:00:03|  League of Legends|     13960|      pt|\n",
            "+--------------------+---------------+-------------------+-------------------+----------+--------+\n",
            "only showing top 20 rows\n",
            "\n"
          ]
        }
      ],
      "source": [
        "df.show()"
      ]
    },
    {
      "cell_type": "code",
      "execution_count": null,
      "metadata": {
        "id": "7RF9vCZnbax2"
      },
      "outputs": [],
      "source": [
        "# print sum of all viewership\n",
        "# print(df.select('viewership').agg({'viewership': 'sum'}).collect()[0][0])"
      ]
    },
    {
      "cell_type": "code",
      "execution_count": null,
      "metadata": {
        "id": "VQaTL6pVbax3"
      },
      "outputs": [],
      "source": [
        "# define the function to be applied to each row\n",
        "def eval_list(x):\n",
        "    return eval(x)"
      ]
    },
    {
      "cell_type": "code",
      "execution_count": null,
      "metadata": {
        "id": "_YpQ60snbax3"
      },
      "outputs": [],
      "source": [
        "# define the udf\n",
        "eval_list_udf = udf(eval_list, ArrayType(StringType()))\n",
        "# apply the udf to the column\n",
        "df = df.withColumn('viewers', eval_list_udf(col('viewers')))\n"
      ]
    },
    {
      "cell_type": "code",
      "execution_count": null,
      "metadata": {
        "colab": {
          "base_uri": "https://localhost:8080/"
        },
        "id": "mM0P6x8Ubax3",
        "outputId": "76664c02-4791-454f-fb26-1ce683696c89"
      },
      "outputs": [
        {
          "name": "stdout",
          "output_type": "stream",
          "text": [
            "root\n",
            " |-- viewers: array (nullable = true)\n",
            " |    |-- element: string (containsNull = true)\n",
            " |-- streamer: string (nullable = true)\n",
            " |-- date: timestamp (nullable = true)\n",
            " |-- category: string (nullable = true)\n",
            " |-- viewership: integer (nullable = true)\n",
            " |-- language: string (nullable = true)\n",
            "\n"
          ]
        }
      ],
      "source": [
        "df.printSchema()"
      ]
    },
    {
      "cell_type": "code",
      "execution_count": null,
      "metadata": {
        "id": "EJeNN1zkbax4"
      },
      "outputs": [],
      "source": [
        "df = df.drop('viewership', 'language', 'date', 'category')"
      ]
    },
    {
      "cell_type": "code",
      "execution_count": null,
      "metadata": {
        "id": "x1cM9yY4bax4"
      },
      "outputs": [],
      "source": [
        "df = df.withColumn('viewers', explode(df.viewers))"
      ]
    },
    {
      "cell_type": "code",
      "execution_count": null,
      "metadata": {
        "id": "0o_JO-R8bax4"
      },
      "outputs": [],
      "source": [
        "df = df \\\n",
        "    .groupBy(\"viewers\", \"streamer\") \\\n",
        "    .agg(count(\"viewers\").alias(\"comptage\")) \\\n",
        "    .orderBy(col(\"comptage\").desc()) \\\n",
        "    .where(col(\"comptage\") >= 4)"
      ]
    },
    {
      "cell_type": "code",
      "execution_count": null,
      "metadata": {
        "id": "2RqMkGwqbax5"
      },
      "outputs": [],
      "source": [
        "# df.show()"
      ]
    },
    {
      "cell_type": "code",
      "execution_count": null,
      "metadata": {
        "id": "bs10hYiXbax6"
      },
      "outputs": [],
      "source": [
        "# print((df.count(), len(df.columns)))"
      ]
    },
    {
      "cell_type": "code",
      "execution_count": null,
      "metadata": {
        "id": "pNlC1WXDbax6"
      },
      "outputs": [],
      "source": [
        "# write to csv\n",
        "df.write.csv(\"mapreduce\", mode='overwrite')"
      ]
    },
    {
      "cell_type": "code",
      "execution_count": null,
      "metadata": {
        "colab": {
          "base_uri": "https://localhost:8080/"
        },
        "id": "PeJnaZK7fSBl",
        "outputId": "c063fe75-5380-4229-8c87-48b91e48139d"
      },
      "outputs": [
        {
          "name": "stdout",
          "output_type": "stream",
          "text": [
            "_SUCCESS\n"
          ]
        }
      ],
      "source": [
        "!ls mapreduce/"
      ]
    },
    {
      "cell_type": "code",
      "execution_count": null,
      "metadata": {
        "colab": {
          "base_uri": "https://localhost:8080/"
        },
        "id": "ThJSkBVrooqT",
        "outputId": "ac84f10c-a585-4874-bdd7-b858f9ad7fe9"
      },
      "outputs": [
        {
          "name": "stdout",
          "output_type": "stream",
          "text": [
            "part-00000-0245cfd2-b7c4-4434-8e37-b46b37834da0-c000.csv\n",
            "part-00000-3e08f1b1-45f5-445a-86cf-65b4783ef2ff-c000.csv\n",
            "part-00000-612e4333-da51-4750-94ad-eb485dc6a2b3-c000.csv\n",
            "part-00000-844ca738-61fd-4b56-b1a1-2a9ea9af19a3-c000.csv\n",
            "part-00000-fe8edf08-4238-4f0b-a33a-3212248e1048-c000.csv\n",
            "part-00001-0245cfd2-b7c4-4434-8e37-b46b37834da0-c000.csv\n",
            "part-00001-3e08f1b1-45f5-445a-86cf-65b4783ef2ff-c000.csv\n",
            "part-00001-612e4333-da51-4750-94ad-eb485dc6a2b3-c000.csv\n",
            "part-00001-844ca738-61fd-4b56-b1a1-2a9ea9af19a3-c000.csv\n",
            "part-00001-fe8edf08-4238-4f0b-a33a-3212248e1048-c000.csv\n",
            "part-00002-0245cfd2-b7c4-4434-8e37-b46b37834da0-c000.csv\n",
            "part-00002-3e08f1b1-45f5-445a-86cf-65b4783ef2ff-c000.csv\n",
            "part-00002-612e4333-da51-4750-94ad-eb485dc6a2b3-c000.csv\n",
            "part-00002-844ca738-61fd-4b56-b1a1-2a9ea9af19a3-c000.csv\n",
            "part-00002-fe8edf08-4238-4f0b-a33a-3212248e1048-c000.csv\n",
            "part-00003-0245cfd2-b7c4-4434-8e37-b46b37834da0-c000.csv\n",
            "part-00003-844ca738-61fd-4b56-b1a1-2a9ea9af19a3-c000.csv\n"
          ]
        }
      ],
      "source": [
        "!ls drive/MyDrive/data/mapreduce/"
      ]
    },
    {
      "cell_type": "code",
      "execution_count": null,
      "metadata": {
        "id": "mUTfTMgyIV5G"
      },
      "outputs": [],
      "source": [
        "!mv mapreduce/*.csv drive/MyDrive/data/mapreduce/"
      ]
    },
    {
      "cell_type": "code",
      "execution_count": null,
      "metadata": {
        "id": "WIkKEW4wIU5T"
      },
      "outputs": [],
      "source": []
    }
  ],
  "metadata": {
    "colab": {
      "provenance": []
    },
    "kernelspec": {
      "display_name": "Python 3.10.6 64-bit",
      "language": "python",
      "name": "python3"
    },
    "language_info": {
      "codemirror_mode": {
        "name": "ipython",
        "version": 3
      },
      "file_extension": ".py",
      "mimetype": "text/x-python",
      "name": "python",
      "nbconvert_exporter": "python",
      "pygments_lexer": "ipython3",
      "version": "3.10.6"
    },
    "vscode": {
      "interpreter": {
        "hash": "837c519a48be08d8749c778cb72b9b5aac116a087aa5d1d99ee0359dceff73e6"
      }
    }
  },
  "nbformat": 4,
  "nbformat_minor": 0
}