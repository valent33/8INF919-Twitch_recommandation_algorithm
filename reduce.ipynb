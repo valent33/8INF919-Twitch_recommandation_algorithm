{
 "cells": [
  {
   "cell_type": "code",
   "execution_count": 1,
   "metadata": {},
   "outputs": [],
   "source": [
    "import pandas as pd\n",
    "import glob"
   ]
  },
  {
   "cell_type": "markdown",
   "metadata": {},
   "source": [
    "## Merge the pyspark files a first time"
   ]
  },
  {
   "cell_type": "code",
   "execution_count": 26,
   "metadata": {},
   "outputs": [],
   "source": [
    "# read 10 csv files from data/*\n",
    "df = pd.concat([pd.read_csv(f, header=None) for f in glob.glob('mapreduce/part-00003*.csv')], ignore_index = True, axis= 0)"
   ]
  },
  {
   "cell_type": "code",
   "execution_count": 27,
   "metadata": {},
   "outputs": [
    {
     "data": {
      "text/html": [
       "<div>\n",
       "<style scoped>\n",
       "    .dataframe tbody tr th:only-of-type {\n",
       "        vertical-align: middle;\n",
       "    }\n",
       "\n",
       "    .dataframe tbody tr th {\n",
       "        vertical-align: top;\n",
       "    }\n",
       "\n",
       "    .dataframe thead th {\n",
       "        text-align: right;\n",
       "    }\n",
       "</style>\n",
       "<table border=\"1\" class=\"dataframe\">\n",
       "  <thead>\n",
       "    <tr style=\"text-align: right;\">\n",
       "      <th></th>\n",
       "      <th>0</th>\n",
       "      <th>1</th>\n",
       "      <th>2</th>\n",
       "    </tr>\n",
       "  </thead>\n",
       "  <tbody>\n",
       "    <tr>\n",
       "      <th>4198599</th>\n",
       "      <td>zirack_</td>\n",
       "      <td>ElmiilloR</td>\n",
       "      <td>4</td>\n",
       "    </tr>\n",
       "    <tr>\n",
       "      <th>4198600</th>\n",
       "      <td>zombiric11</td>\n",
       "      <td>GrenBaud</td>\n",
       "      <td>4</td>\n",
       "    </tr>\n",
       "    <tr>\n",
       "      <th>4198601</th>\n",
       "      <td>zxcrec</td>\n",
       "      <td>StRoGo1337</td>\n",
       "      <td>4</td>\n",
       "    </tr>\n",
       "    <tr>\n",
       "      <th>4198602</th>\n",
       "      <td>zzetral</td>\n",
       "      <td>Xari</td>\n",
       "      <td>4</td>\n",
       "    </tr>\n",
       "    <tr>\n",
       "      <th>4198603</th>\n",
       "      <td>zzztai</td>\n",
       "      <td>summit1g</td>\n",
       "      <td>4</td>\n",
       "    </tr>\n",
       "  </tbody>\n",
       "</table>\n",
       "</div>"
      ],
      "text/plain": [
       "                  0           1  2\n",
       "4198599     zirack_   ElmiilloR  4\n",
       "4198600  zombiric11    GrenBaud  4\n",
       "4198601      zxcrec  StRoGo1337  4\n",
       "4198602     zzetral        Xari  4\n",
       "4198603      zzztai    summit1g  4"
      ]
     },
     "execution_count": 27,
     "metadata": {},
     "output_type": "execute_result"
    }
   ],
   "source": [
    "df.tail()"
   ]
  },
  {
   "cell_type": "code",
   "execution_count": 28,
   "metadata": {},
   "outputs": [],
   "source": [
    "# rename columns\n",
    "df.columns = ['source', 'target', 'weight']"
   ]
  },
  {
   "cell_type": "code",
   "execution_count": 29,
   "metadata": {},
   "outputs": [],
   "source": [
    "# group by source and target and sum the weight\n",
    "df = df.groupby(['source', 'target']).sum().reset_index()"
   ]
  },
  {
   "cell_type": "code",
   "execution_count": 30,
   "metadata": {},
   "outputs": [
    {
     "data": {
      "text/html": [
       "<div>\n",
       "<style scoped>\n",
       "    .dataframe tbody tr th:only-of-type {\n",
       "        vertical-align: middle;\n",
       "    }\n",
       "\n",
       "    .dataframe tbody tr th {\n",
       "        vertical-align: top;\n",
       "    }\n",
       "\n",
       "    .dataframe thead th {\n",
       "        text-align: right;\n",
       "    }\n",
       "</style>\n",
       "<table border=\"1\" class=\"dataframe\">\n",
       "  <thead>\n",
       "    <tr style=\"text-align: right;\">\n",
       "      <th></th>\n",
       "      <th>source</th>\n",
       "      <th>target</th>\n",
       "      <th>weight</th>\n",
       "    </tr>\n",
       "  </thead>\n",
       "  <tbody>\n",
       "    <tr>\n",
       "      <th>4087458</th>\n",
       "      <td>zzzzzzzzzzzzzzzzzzz2</td>\n",
       "      <td>LenaGol0vach</td>\n",
       "      <td>8</td>\n",
       "    </tr>\n",
       "    <tr>\n",
       "      <th>4087459</th>\n",
       "      <td>zzzzzzzzzzzzzzzzzzzz</td>\n",
       "      <td>Evelone192</td>\n",
       "      <td>4</td>\n",
       "    </tr>\n",
       "    <tr>\n",
       "      <th>4087460</th>\n",
       "      <td>zzzzzzzzzzzzzzzzzzzzzzz21</td>\n",
       "      <td>Asmongold</td>\n",
       "      <td>4</td>\n",
       "    </tr>\n",
       "    <tr>\n",
       "      <th>4087461</th>\n",
       "      <td>zzzzzzzzzzzzzzzzzzzzzzz21</td>\n",
       "      <td>HasanAbi</td>\n",
       "      <td>4</td>\n",
       "    </tr>\n",
       "    <tr>\n",
       "      <th>4087462</th>\n",
       "      <td>zzzzzzzzzzzzzzzzzzzzzzz21</td>\n",
       "      <td>pokimane</td>\n",
       "      <td>4</td>\n",
       "    </tr>\n",
       "  </tbody>\n",
       "</table>\n",
       "</div>"
      ],
      "text/plain": [
       "                            source        target  weight\n",
       "4087458       zzzzzzzzzzzzzzzzzzz2  LenaGol0vach       8\n",
       "4087459       zzzzzzzzzzzzzzzzzzzz    Evelone192       4\n",
       "4087460  zzzzzzzzzzzzzzzzzzzzzzz21     Asmongold       4\n",
       "4087461  zzzzzzzzzzzzzzzzzzzzzzz21      HasanAbi       4\n",
       "4087462  zzzzzzzzzzzzzzzzzzzzzzz21      pokimane       4"
      ]
     },
     "execution_count": 30,
     "metadata": {},
     "output_type": "execute_result"
    }
   ],
   "source": [
    "df.tail()"
   ]
  },
  {
   "cell_type": "code",
   "execution_count": 31,
   "metadata": {},
   "outputs": [],
   "source": [
    "df.to_csv('graph/graphx_4.csv', index=False)"
   ]
  },
  {
   "cell_type": "markdown",
   "metadata": {},
   "source": [
    "## Merge the files again"
   ]
  },
  {
   "cell_type": "code",
   "execution_count": 32,
   "metadata": {},
   "outputs": [],
   "source": [
    "# read all files from ./graphx_*.csv\n",
    "df = pd.concat([pd.read_csv(f) for f in glob.glob('graph/graphx_*.csv')], ignore_index = True)"
   ]
  },
  {
   "cell_type": "code",
   "execution_count": 33,
   "metadata": {},
   "outputs": [
    {
     "data": {
      "text/html": [
       "<div>\n",
       "<style scoped>\n",
       "    .dataframe tbody tr th:only-of-type {\n",
       "        vertical-align: middle;\n",
       "    }\n",
       "\n",
       "    .dataframe tbody tr th {\n",
       "        vertical-align: top;\n",
       "    }\n",
       "\n",
       "    .dataframe thead th {\n",
       "        text-align: right;\n",
       "    }\n",
       "</style>\n",
       "<table border=\"1\" class=\"dataframe\">\n",
       "  <thead>\n",
       "    <tr style=\"text-align: right;\">\n",
       "      <th></th>\n",
       "      <th>source</th>\n",
       "      <th>target</th>\n",
       "      <th>weight</th>\n",
       "    </tr>\n",
       "  </thead>\n",
       "  <tbody>\n",
       "    <tr>\n",
       "      <th>90225907</th>\n",
       "      <td>zzzzzzzzzzzzzzzzzzz2</td>\n",
       "      <td>LenaGol0vach</td>\n",
       "      <td>8</td>\n",
       "    </tr>\n",
       "    <tr>\n",
       "      <th>90225908</th>\n",
       "      <td>zzzzzzzzzzzzzzzzzzzz</td>\n",
       "      <td>Evelone192</td>\n",
       "      <td>4</td>\n",
       "    </tr>\n",
       "    <tr>\n",
       "      <th>90225909</th>\n",
       "      <td>zzzzzzzzzzzzzzzzzzzzzzz21</td>\n",
       "      <td>Asmongold</td>\n",
       "      <td>4</td>\n",
       "    </tr>\n",
       "    <tr>\n",
       "      <th>90225910</th>\n",
       "      <td>zzzzzzzzzzzzzzzzzzzzzzz21</td>\n",
       "      <td>HasanAbi</td>\n",
       "      <td>4</td>\n",
       "    </tr>\n",
       "    <tr>\n",
       "      <th>90225911</th>\n",
       "      <td>zzzzzzzzzzzzzzzzzzzzzzz21</td>\n",
       "      <td>pokimane</td>\n",
       "      <td>4</td>\n",
       "    </tr>\n",
       "  </tbody>\n",
       "</table>\n",
       "</div>"
      ],
      "text/plain": [
       "                             source        target  weight\n",
       "90225907       zzzzzzzzzzzzzzzzzzz2  LenaGol0vach       8\n",
       "90225908       zzzzzzzzzzzzzzzzzzzz    Evelone192       4\n",
       "90225909  zzzzzzzzzzzzzzzzzzzzzzz21     Asmongold       4\n",
       "90225910  zzzzzzzzzzzzzzzzzzzzzzz21      HasanAbi       4\n",
       "90225911  zzzzzzzzzzzzzzzzzzzzzzz21      pokimane       4"
      ]
     },
     "execution_count": 33,
     "metadata": {},
     "output_type": "execute_result"
    }
   ],
   "source": [
    "df.tail()"
   ]
  },
  {
   "cell_type": "code",
   "execution_count": 36,
   "metadata": {},
   "outputs": [],
   "source": [
    "df = df.groupby(['source', 'target']).sum().reset_index()"
   ]
  },
  {
   "cell_type": "code",
   "execution_count": 37,
   "metadata": {},
   "outputs": [
    {
     "data": {
      "text/html": [
       "<div>\n",
       "<style scoped>\n",
       "    .dataframe tbody tr th:only-of-type {\n",
       "        vertical-align: middle;\n",
       "    }\n",
       "\n",
       "    .dataframe tbody tr th {\n",
       "        vertical-align: top;\n",
       "    }\n",
       "\n",
       "    .dataframe thead th {\n",
       "        text-align: right;\n",
       "    }\n",
       "</style>\n",
       "<table border=\"1\" class=\"dataframe\">\n",
       "  <thead>\n",
       "    <tr style=\"text-align: right;\">\n",
       "      <th></th>\n",
       "      <th>source</th>\n",
       "      <th>target</th>\n",
       "      <th>weight</th>\n",
       "    </tr>\n",
       "  </thead>\n",
       "  <tbody>\n",
       "    <tr>\n",
       "      <th>61572691</th>\n",
       "      <td>zzzzzzzzzzzzzzzzzzzzzzz21</td>\n",
       "      <td>pokelawls</td>\n",
       "      <td>11</td>\n",
       "    </tr>\n",
       "    <tr>\n",
       "      <th>61572692</th>\n",
       "      <td>zzzzzzzzzzzzzzzzzzzzzzz21</td>\n",
       "      <td>pokimane</td>\n",
       "      <td>4</td>\n",
       "    </tr>\n",
       "    <tr>\n",
       "      <th>61572693</th>\n",
       "      <td>zzzzzzzzzzzzzzzzzzzzzzz21</td>\n",
       "      <td>xQcOW</td>\n",
       "      <td>78</td>\n",
       "    </tr>\n",
       "    <tr>\n",
       "      <th>61572694</th>\n",
       "      <td>zzzzzzzzzzzzzzzzzzzzzzzyx</td>\n",
       "      <td>aceu</td>\n",
       "      <td>4</td>\n",
       "    </tr>\n",
       "    <tr>\n",
       "      <th>61572695</th>\n",
       "      <td>zzzzzzzzzzzzzzzzzzzzzzzyx</td>\n",
       "      <td>xQcOW</td>\n",
       "      <td>117</td>\n",
       "    </tr>\n",
       "  </tbody>\n",
       "</table>\n",
       "</div>"
      ],
      "text/plain": [
       "                             source     target  weight\n",
       "61572691  zzzzzzzzzzzzzzzzzzzzzzz21  pokelawls      11\n",
       "61572692  zzzzzzzzzzzzzzzzzzzzzzz21   pokimane       4\n",
       "61572693  zzzzzzzzzzzzzzzzzzzzzzz21      xQcOW      78\n",
       "61572694  zzzzzzzzzzzzzzzzzzzzzzzyx       aceu       4\n",
       "61572695  zzzzzzzzzzzzzzzzzzzzzzzyx      xQcOW     117"
      ]
     },
     "execution_count": 37,
     "metadata": {},
     "output_type": "execute_result"
    }
   ],
   "source": [
    "df.tail()"
   ]
  },
  {
   "cell_type": "code",
   "execution_count": 38,
   "metadata": {},
   "outputs": [
    {
     "data": {
      "text/plain": [
       "(20685808,)"
      ]
     },
     "execution_count": 38,
     "metadata": {},
     "output_type": "execute_result"
    }
   ],
   "source": [
    "df['source'].unique().shape"
   ]
  },
  {
   "cell_type": "markdown",
   "metadata": {},
   "source": [
    "Il y a plus de 20 millions de spectateurs uniques qui ont visionnés 1 heure ou plus de twitch."
   ]
  },
  {
   "cell_type": "code",
   "execution_count": 39,
   "metadata": {},
   "outputs": [],
   "source": [
    "df.to_csv('graph/graphx.csv', index=False)"
   ]
  },
  {
   "cell_type": "code",
   "execution_count": null,
   "metadata": {},
   "outputs": [],
   "source": []
  },
  {
   "cell_type": "code",
   "execution_count": null,
   "metadata": {},
   "outputs": [],
   "source": []
  }
 ],
 "metadata": {
  "kernelspec": {
   "display_name": "Python 3.10.6 64-bit",
   "language": "python",
   "name": "python3"
  },
  "language_info": {
   "codemirror_mode": {
    "name": "ipython",
    "version": 3
   },
   "file_extension": ".py",
   "mimetype": "text/x-python",
   "name": "python",
   "nbconvert_exporter": "python",
   "pygments_lexer": "ipython3",
   "version": "3.10.6"
  },
  "orig_nbformat": 4,
  "vscode": {
   "interpreter": {
    "hash": "837c519a48be08d8749c778cb72b9b5aac116a087aa5d1d99ee0359dceff73e6"
   }
  }
 },
 "nbformat": 4,
 "nbformat_minor": 2
}
