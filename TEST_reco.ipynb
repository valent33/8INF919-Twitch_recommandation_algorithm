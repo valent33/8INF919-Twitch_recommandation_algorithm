{
 "cells": [
  {
   "cell_type": "code",
   "execution_count": 1,
   "metadata": {},
   "outputs": [],
   "source": [
    "import pandas as pd\n",
    "import numpy as np"
   ]
  },
  {
   "cell_type": "code",
   "execution_count": 2,
   "metadata": {},
   "outputs": [],
   "source": [
    "def similarity(user1, user2):\n",
    "    # calculate the similarity between two users\n",
    "    # return the similarity\n",
    "    return np.dot(user1, user2) / (np.linalg.norm(user1) * np.linalg.norm(user2))"
   ]
  },
  {
   "cell_type": "code",
   "execution_count": 3,
   "metadata": {},
   "outputs": [],
   "source": [
    "def recommandation(matrix, user):\n",
    "    # calculate the recommandation for a user\n",
    "    return np.dot(matrix, user) / np.linalg.norm(user)"
   ]
  },
  {
   "cell_type": "code",
   "execution_count": 4,
   "metadata": {},
   "outputs": [],
   "source": [
    "df = pd.read_csv('graph/final_fr.csv')"
   ]
  },
  {
   "cell_type": "code",
   "execution_count": 5,
   "metadata": {},
   "outputs": [],
   "source": [
    "# create a pivot table for streamers and addition the counts\n",
    "df_pivot_streamer = df.pivot_table(index='viewers', columns='streamer', values='counts', fill_value=0, aggfunc='sum')\n",
    "df_pivot_category = df.pivot_table(index='viewers', columns='category', values='counts', fill_value=0, aggfunc='sum')"
   ]
  },
  {
   "cell_type": "code",
   "execution_count": 6,
   "metadata": {},
   "outputs": [],
   "source": [
    "df_pivot_streamer.fillna(0, inplace=True)\n",
    "df_pivot_category.fillna(0, inplace=True)"
   ]
  },
  {
   "cell_type": "code",
   "execution_count": 7,
   "metadata": {},
   "outputs": [],
   "source": [
    "matrix_streamer = df_pivot_streamer.to_numpy()\n",
    "matrix_category = df_pivot_category.to_numpy()"
   ]
  },
  {
   "cell_type": "code",
   "execution_count": 36,
   "metadata": {},
   "outputs": [],
   "source": [
    "user = \"yayamontagne\""
   ]
  },
  {
   "cell_type": "code",
   "execution_count": 9,
   "metadata": {},
   "outputs": [
    {
     "name": "stdout",
     "output_type": "stream",
     "text": [
      "streamer\n",
      "1PVCS             11\n",
      "Chap_GG           14\n",
      "Domingo           14\n",
      "Gotaga            17\n",
      "Kamet0            23\n",
      "Nisqyy            16\n",
      "RocketBaguette    13\n",
      "Sardoche          15\n",
      "otplol_           89\n",
      "Name: yayalfc, dtype: int64\n"
     ]
    }
   ],
   "source": [
    "# show the user streamers\n",
    "user_streamers = df_pivot_streamer.loc[user]\n",
    "user_streamers = user_streamers[user_streamers > 0]\n",
    "print(user_streamers)"
   ]
  },
  {
   "cell_type": "code",
   "execution_count": 10,
   "metadata": {},
   "outputs": [
    {
     "name": "stdout",
     "output_type": "stream",
     "text": [
      "category\n",
      "Counter-Strike: Global Offensive     11\n",
      "Just Chatting                        52\n",
      "League of Legends                   119\n",
      "Rocket League                        13\n",
      "Special Events                       17\n",
      "Name: yayalfc, dtype: int64\n"
     ]
    }
   ],
   "source": [
    "# show the user categories\n",
    "user_categories = df_pivot_category.loc[user]\n",
    "user_categories = user_categories[user_categories > 0]\n",
    "print(user_categories)"
   ]
  },
  {
   "cell_type": "code",
   "execution_count": 46,
   "metadata": {},
   "outputs": [],
   "source": [
    "def recommand_category(user):\n",
    "    # get the user index\n",
    "    user_index = df_pivot_category.index.get_loc(user)\n",
    "    # get the user's categories\n",
    "    user_categories = df_pivot_category.loc[user]\n",
    "    user_categories = user_categories[user_categories > 0]\n",
    "    # get the user\n",
    "    user = matrix_category[user_index]\n",
    "    # calculate the similarity between the user and all the other users\n",
    "    similarities = []\n",
    "    for i in range(len(matrix_category)):\n",
    "        similarities.append(similarity(user, matrix_category[i]))\n",
    "    # get the most similar users\n",
    "    most_similar_users = np.argsort(similarities)[::-1][:5000]\n",
    "    # naive recommandation system that loops through the most similar users and add the categories to a list\n",
    "    recommandation = {}\n",
    "    for i in most_similar_users:\n",
    "        # get the categories of the user\n",
    "        categories = df_pivot_category.iloc[i]\n",
    "        categories = categories[categories > 0]\n",
    "        # add the categories to the recommandation list\n",
    "        for category in categories.index:\n",
    "            # add counts to the category key\n",
    "            recommandation[category] = recommandation.get(category, 0) + categories[category]\n",
    "    # filter out the categories that the user already follows\n",
    "    for category in user_categories.index:\n",
    "        if category in recommandation:\n",
    "            del recommandation[category]\n",
    "    # get the top 10 recommandation\n",
    "    top_10_recommandation = sorted(recommandation.items(), key=lambda x: x[1], reverse=True)[:10]\n",
    "    # print the top 10 recommandation\n",
    "    for i, reco in enumerate(top_10_recommandation):\n",
    "        print(f'#{i} - {reco[0]}')"
   ]
  },
  {
   "cell_type": "code",
   "execution_count": 47,
   "metadata": {},
   "outputs": [
    {
     "name": "stdout",
     "output_type": "stream",
     "text": [
      "#0 - Pummel Party\n",
      "#1 - Trackmania\n",
      "#2 - Tabletop RPGs\n",
      "#3 - Elden Ring\n",
      "#4 - Trigon: Space Story\n",
      "#5 - Rogue Legacy 2\n",
      "#6 - Worms W.M.D\n",
      "#7 - Talk Shows & Podcasts\n",
      "#8 - Minecraft\n",
      "#9 - Overwatch\n"
     ]
    }
   ],
   "source": [
    "recommand_category(user)"
   ]
  },
  {
   "cell_type": "code",
   "execution_count": 44,
   "metadata": {},
   "outputs": [],
   "source": [
    "def recommand_streamer(user):\n",
    "    # get the user index\n",
    "    user_index = df_pivot_streamer.index.get_loc(user)\n",
    "    # retrieve the user's streamers\n",
    "    user_streamers = df_pivot_streamer.iloc[user_index]\n",
    "    user_streamers = user_streamers[user_streamers > 0]\n",
    "    # get the user\n",
    "    user = matrix_streamer[user_index]\n",
    "    # calculate the similarity between the user and all the other users\n",
    "    similarities = []\n",
    "    for i in range(len(matrix_streamer)):\n",
    "        similarities.append(similarity(user, matrix_streamer[i]))\n",
    "    # get the most similar users\n",
    "    most_similar_users = np.argsort(similarities)[::-1][:5000]\n",
    "    # naive recommandation system that loops through the most similar users and add the streamers to a list\n",
    "    recommandation = {}\n",
    "    for i in most_similar_users:\n",
    "        # get the streamers of the user\n",
    "        streamers = df_pivot_streamer.iloc[i]\n",
    "        streamers = streamers[streamers > 0]\n",
    "        # add the streamers to the recommandation list\n",
    "        for streamer in streamers.index:\n",
    "            # add counts to the streamer key\n",
    "            recommandation[streamer] = recommandation.get(streamer, 0) + streamers[streamer]\n",
    "    # filter out the streamers that the user already follows\n",
    "    for streamer in user_streamers.index:\n",
    "        if streamer in recommandation:\n",
    "            del recommandation[streamer]\n",
    "    # get the top 10 recommandation\n",
    "    top_10_recommandation = sorted(recommandation.items(), key=lambda x: x[1], reverse=True)[:10]\n",
    "    # print the top 10 recommandation\n",
    "    for i, reco in enumerate(top_10_recommandation):\n",
    "        print(f'#{i} - {reco[0]}')"
   ]
  },
  {
   "cell_type": "code",
   "execution_count": 45,
   "metadata": {},
   "outputs": [
    {
     "name": "stdout",
     "output_type": "stream",
     "text": [
      "#0 - ZeratoR\n",
      "#1 - Ponce\n",
      "#2 - Mynthos\n",
      "#3 - Joueur_du_Grenier\n",
      "#4 - Etoiles\n",
      "#5 - JeanMassiet\n",
      "#6 - AlphaCast\n",
      "#7 - Clemovitch\n",
      "#8 - Kamet0\n",
      "#9 - samueletienne\n"
     ]
    }
   ],
   "source": [
    "recommand_streamer(user)"
   ]
  },
  {
   "cell_type": "code",
   "execution_count": null,
   "metadata": {},
   "outputs": [],
   "source": []
  }
 ],
 "metadata": {
  "kernelspec": {
   "display_name": "Python 3.10.6 64-bit",
   "language": "python",
   "name": "python3"
  },
  "language_info": {
   "codemirror_mode": {
    "name": "ipython",
    "version": 3
   },
   "file_extension": ".py",
   "mimetype": "text/x-python",
   "name": "python",
   "nbconvert_exporter": "python",
   "pygments_lexer": "ipython3",
   "version": "3.10.6"
  },
  "orig_nbformat": 4,
  "vscode": {
   "interpreter": {
    "hash": "837c519a48be08d8749c778cb72b9b5aac116a087aa5d1d99ee0359dceff73e6"
   }
  }
 },
 "nbformat": 4,
 "nbformat_minor": 2
}
