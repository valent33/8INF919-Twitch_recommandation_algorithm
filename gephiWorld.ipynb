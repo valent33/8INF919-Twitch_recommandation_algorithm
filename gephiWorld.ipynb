{
 "cells": [
  {
   "cell_type": "code",
   "execution_count": 1,
   "metadata": {},
   "outputs": [],
   "source": [
    "import glob\n",
    "import pandas as pd\n",
    "# import numpy as np"
   ]
  },
  {
   "cell_type": "code",
   "execution_count": 37,
   "metadata": {},
   "outputs": [],
   "source": [
    "relations = pd.read_csv(\"mars13-20/relationsWorld2022-03-20.csv\", header=None)\n",
    "relations = relations.rename(columns={0:\"Viewers_list\", 1:\"Streamer\", 2:\"WatchTime\"})"
   ]
  },
  {
   "cell_type": "code",
   "execution_count": 38,
   "metadata": {},
   "outputs": [
    {
     "data": {
      "text/html": [
       "<div>\n",
       "<style scoped>\n",
       "    .dataframe tbody tr th:only-of-type {\n",
       "        vertical-align: middle;\n",
       "    }\n",
       "\n",
       "    .dataframe tbody tr th {\n",
       "        vertical-align: top;\n",
       "    }\n",
       "\n",
       "    .dataframe thead th {\n",
       "        text-align: right;\n",
       "    }\n",
       "</style>\n",
       "<table border=\"1\" class=\"dataframe\">\n",
       "  <thead>\n",
       "    <tr style=\"text-align: right;\">\n",
       "      <th></th>\n",
       "      <th>Viewers_list</th>\n",
       "      <th>Streamer</th>\n",
       "    </tr>\n",
       "  </thead>\n",
       "  <tbody>\n",
       "    <tr>\n",
       "      <th>0</th>\n",
       "      <td>['0000009mil', '0001jnfps7', '0001ray', '00023...</td>\n",
       "      <td>loud_coringa</td>\n",
       "    </tr>\n",
       "    <tr>\n",
       "      <th>1</th>\n",
       "      <td>['0000_01', '000jose008', '000sunflower000', '...</td>\n",
       "      <td>ElSpreen</td>\n",
       "    </tr>\n",
       "    <tr>\n",
       "      <th>2</th>\n",
       "      <td>['000_fnwortas_000', '00_blast', '00floffi', '...</td>\n",
       "      <td>ROSHTEIN</td>\n",
       "    </tr>\n",
       "    <tr>\n",
       "      <th>3</th>\n",
       "      <td>['000guitarman', '001aroha', '009soundsystemdr...</td>\n",
       "      <td>HasanAbi</td>\n",
       "    </tr>\n",
       "    <tr>\n",
       "      <th>4</th>\n",
       "      <td>['00bidub', '00rioku00', '00ysera00', '0110011...</td>\n",
       "      <td>Maximum</td>\n",
       "    </tr>\n",
       "    <tr>\n",
       "      <th>...</th>\n",
       "      <td>...</td>\n",
       "      <td>...</td>\n",
       "    </tr>\n",
       "    <tr>\n",
       "      <th>17486</th>\n",
       "      <td>['00schneida', '00tefl00', '012hero012', '08xe...</td>\n",
       "      <td>TrilluXe</td>\n",
       "    </tr>\n",
       "    <tr>\n",
       "      <th>17487</th>\n",
       "      <td>['0arsoluto', '10obelix100', '11mike33', '1705...</td>\n",
       "      <td>ricardoquintacolumnero</td>\n",
       "    </tr>\n",
       "    <tr>\n",
       "      <th>17488</th>\n",
       "      <td>['112358sum', '16southpaw', '1drr', '1holyreli...</td>\n",
       "      <td>Day9tv</td>\n",
       "    </tr>\n",
       "    <tr>\n",
       "      <th>17489</th>\n",
       "      <td>['000enricpuig26', '0hgodno', '10050816', '14d...</td>\n",
       "      <td>XQN_TheSad</td>\n",
       "    </tr>\n",
       "    <tr>\n",
       "      <th>17490</th>\n",
       "      <td>['0blit3rate', '18simonsp', '1_kevin_', '1cobs...</td>\n",
       "      <td>Stanz</td>\n",
       "    </tr>\n",
       "  </tbody>\n",
       "</table>\n",
       "<p>17491 rows × 2 columns</p>\n",
       "</div>"
      ],
      "text/plain": [
       "                                            Viewers_list  \\\n",
       "0      ['0000009mil', '0001jnfps7', '0001ray', '00023...   \n",
       "1      ['0000_01', '000jose008', '000sunflower000', '...   \n",
       "2      ['000_fnwortas_000', '00_blast', '00floffi', '...   \n",
       "3      ['000guitarman', '001aroha', '009soundsystemdr...   \n",
       "4      ['00bidub', '00rioku00', '00ysera00', '0110011...   \n",
       "...                                                  ...   \n",
       "17486  ['00schneida', '00tefl00', '012hero012', '08xe...   \n",
       "17487  ['0arsoluto', '10obelix100', '11mike33', '1705...   \n",
       "17488  ['112358sum', '16southpaw', '1drr', '1holyreli...   \n",
       "17489  ['000enricpuig26', '0hgodno', '10050816', '14d...   \n",
       "17490  ['0blit3rate', '18simonsp', '1_kevin_', '1cobs...   \n",
       "\n",
       "                     Streamer  \n",
       "0                loud_coringa  \n",
       "1                    ElSpreen  \n",
       "2                    ROSHTEIN  \n",
       "3                    HasanAbi  \n",
       "4                     Maximum  \n",
       "...                       ...  \n",
       "17486                TrilluXe  \n",
       "17487  ricardoquintacolumnero  \n",
       "17488                  Day9tv  \n",
       "17489              XQN_TheSad  \n",
       "17490                   Stanz  \n",
       "\n",
       "[17491 rows x 2 columns]"
      ]
     },
     "execution_count": 38,
     "metadata": {},
     "output_type": "execute_result"
    }
   ],
   "source": [
    "relations"
   ]
  },
  {
   "cell_type": "code",
   "execution_count": 39,
   "metadata": {},
   "outputs": [],
   "source": [
    "# 1m40 \n",
    "# all_relations = glob.glob(\"mars13-20/relations*.csv\")\n",
    "# relations = pd.concat((pd.read_csv(f, header=None) for f in all_relations), axis=0, ignore_index=True)\n",
    "# relations = relations.rename(columns={0:\"Viewers_list\", 1:\"Streamer\", 2:\"WatchTime\"})\n",
    "# print(f\" ** Memory usage of the file - {sum(relations.memory_usage()) * 0.000001} MB for {len(relations.index)} Rows\")"
   ]
  },
  {
   "cell_type": "code",
   "execution_count": 40,
   "metadata": {},
   "outputs": [],
   "source": [
    "# 2m20s rend la liste \"list()\"\n",
    "relations['Viewers_list'] = relations['Viewers_list'].apply(eval)"
   ]
  },
  {
   "cell_type": "code",
   "execution_count": 59,
   "metadata": {},
   "outputs": [],
   "source": [
    "relations = relations[relations['Viewers_list'].apply(lambda x: len(x) >= 10000)]"
   ]
  },
  {
   "cell_type": "code",
   "execution_count": 60,
   "metadata": {},
   "outputs": [
    {
     "data": {
      "text/html": [
       "<div>\n",
       "<style scoped>\n",
       "    .dataframe tbody tr th:only-of-type {\n",
       "        vertical-align: middle;\n",
       "    }\n",
       "\n",
       "    .dataframe tbody tr th {\n",
       "        vertical-align: top;\n",
       "    }\n",
       "\n",
       "    .dataframe thead th {\n",
       "        text-align: right;\n",
       "    }\n",
       "</style>\n",
       "<table border=\"1\" class=\"dataframe\">\n",
       "  <thead>\n",
       "    <tr style=\"text-align: right;\">\n",
       "      <th></th>\n",
       "      <th>Viewers_list</th>\n",
       "      <th>Streamer</th>\n",
       "    </tr>\n",
       "  </thead>\n",
       "  <tbody>\n",
       "    <tr>\n",
       "      <th>0</th>\n",
       "      <td>[0000009mil, 0001jnfps7, 0001ray, 00023ppqq, 0...</td>\n",
       "      <td>loud_coringa</td>\n",
       "    </tr>\n",
       "    <tr>\n",
       "      <th>1</th>\n",
       "      <td>[0000_01, 000jose008, 000sunflower000, 0011010...</td>\n",
       "      <td>ElSpreen</td>\n",
       "    </tr>\n",
       "    <tr>\n",
       "      <th>2</th>\n",
       "      <td>[000_fnwortas_000, 00_blast, 00floffi, 00h01, ...</td>\n",
       "      <td>ROSHTEIN</td>\n",
       "    </tr>\n",
       "    <tr>\n",
       "      <th>3</th>\n",
       "      <td>[000guitarman, 001aroha, 009soundsystemdreamsc...</td>\n",
       "      <td>HasanAbi</td>\n",
       "    </tr>\n",
       "    <tr>\n",
       "      <th>4</th>\n",
       "      <td>[00bidub, 00rioku00, 00ysera00, 01100110_, 01c...</td>\n",
       "      <td>Maximum</td>\n",
       "    </tr>\n",
       "    <tr>\n",
       "      <th>...</th>\n",
       "      <td>...</td>\n",
       "      <td>...</td>\n",
       "    </tr>\n",
       "    <tr>\n",
       "      <th>17352</th>\n",
       "      <td>[00jabba, 00mkin, 0102rekoj, 0221sense, 040_ti...</td>\n",
       "      <td>NoWay4u_Sir</td>\n",
       "    </tr>\n",
       "    <tr>\n",
       "      <th>17353</th>\n",
       "      <td>[03day, 0_bonkers_0, 0geebee0, 0july0, 0muffin...</td>\n",
       "      <td>daltoosh</td>\n",
       "    </tr>\n",
       "    <tr>\n",
       "      <th>17355</th>\n",
       "      <td>[0000_udinrosli, 02mynameisjeff, 02vos, 036alm...</td>\n",
       "      <td>fuslie</td>\n",
       "    </tr>\n",
       "    <tr>\n",
       "      <th>17357</th>\n",
       "      <td>[00jaredavis, 032bit, 03c63ef3, 04_00, 07jungh...</td>\n",
       "      <td>MOONMOON</td>\n",
       "    </tr>\n",
       "    <tr>\n",
       "      <th>17370</th>\n",
       "      <td>[000apok4lypse, 007dosul_salve, 007pesadao2, 0...</td>\n",
       "      <td>Gaules</td>\n",
       "    </tr>\n",
       "  </tbody>\n",
       "</table>\n",
       "<p>1852 rows × 2 columns</p>\n",
       "</div>"
      ],
      "text/plain": [
       "                                            Viewers_list      Streamer\n",
       "0      [0000009mil, 0001jnfps7, 0001ray, 00023ppqq, 0...  loud_coringa\n",
       "1      [0000_01, 000jose008, 000sunflower000, 0011010...      ElSpreen\n",
       "2      [000_fnwortas_000, 00_blast, 00floffi, 00h01, ...      ROSHTEIN\n",
       "3      [000guitarman, 001aroha, 009soundsystemdreamsc...      HasanAbi\n",
       "4      [00bidub, 00rioku00, 00ysera00, 01100110_, 01c...       Maximum\n",
       "...                                                  ...           ...\n",
       "17352  [00jabba, 00mkin, 0102rekoj, 0221sense, 040_ti...   NoWay4u_Sir\n",
       "17353  [03day, 0_bonkers_0, 0geebee0, 0july0, 0muffin...      daltoosh\n",
       "17355  [0000_udinrosli, 02mynameisjeff, 02vos, 036alm...        fuslie\n",
       "17357  [00jaredavis, 032bit, 03c63ef3, 04_00, 07jungh...      MOONMOON\n",
       "17370  [000apok4lypse, 007dosul_salve, 007pesadao2, 0...        Gaules\n",
       "\n",
       "[1852 rows x 2 columns]"
      ]
     },
     "execution_count": 60,
     "metadata": {},
     "output_type": "execute_result"
    }
   ],
   "source": [
    "relations"
   ]
  },
  {
   "cell_type": "code",
   "execution_count": 61,
   "metadata": {},
   "outputs": [],
   "source": [
    "def to_1D(series):\n",
    " return pd.Series([x for _list in series for x in _list])"
   ]
  },
  {
   "cell_type": "code",
   "execution_count": 62,
   "metadata": {},
   "outputs": [],
   "source": [
    "# 45s \n",
    "viewers_1D = to_1D(relations[\"Viewers_list\"])\n",
    "viewers_1D_count = viewers_1D.value_counts()"
   ]
  },
  {
   "cell_type": "code",
   "execution_count": 63,
   "metadata": {},
   "outputs": [],
   "source": [
    "# WARNING DO NOT EXECUTE TWICE\n",
    "# viewers_1D.to_csv(\"mars13-20/viewers1D.csv\", mode='a')"
   ]
  },
  {
   "cell_type": "markdown",
   "metadata": {},
   "source": [
    "Les valeurs à suivre sont en quarts d'heure."
   ]
  },
  {
   "cell_type": "code",
   "execution_count": 64,
   "metadata": {},
   "outputs": [
    {
     "data": {
      "text/plain": [
       "commanderroot     1818\n",
       "spiketrapclair    1682\n",
       "aten              1594\n",
       "dtype: int64"
      ]
     },
     "execution_count": 64,
     "metadata": {},
     "output_type": "execute_result"
    }
   ],
   "source": [
    "viewers_1D_count.head(3) # les bots :)"
   ]
  },
  {
   "cell_type": "code",
   "execution_count": 65,
   "metadata": {},
   "outputs": [
    {
     "data": {
      "text/plain": [
       "count    4.855261e+06\n",
       "mean     7.669991e+00\n",
       "std      1.083622e+01\n",
       "min      1.000000e+00\n",
       "25%      2.000000e+00\n",
       "50%      4.000000e+00\n",
       "75%      1.000000e+01\n",
       "max      1.818000e+03\n",
       "dtype: float64"
      ]
     },
     "execution_count": 65,
     "metadata": {},
     "output_type": "execute_result"
    }
   ],
   "source": [
    "viewers_1D_count.describe()"
   ]
  },
  {
   "cell_type": "code",
   "execution_count": 66,
   "metadata": {},
   "outputs": [],
   "source": [
    "# Quarts_heure = (np.datetime64(\"2022-02-14 00:00\")-np.datetime64(\"2022-02-13 00:00\")).astype(int)/15\n",
    "# Quarts_heure\n",
    "Quarts_heure = 96"
   ]
  },
  {
   "cell_type": "code",
   "execution_count": 67,
   "metadata": {},
   "outputs": [],
   "source": [
    "def temps(x, streamersRegardés=2):\n",
    "    print(f\"{x/4:.2f} heures regardées, soit {x/4/24:.2f} jours sur un total de {Quarts_heure/4/24:.2f} jours étudiés.\")\n",
    "    print(f\"Ou encore {streamersRegardés} streamers regardés en parallèle pendant {(x/streamersRegardés)/(Quarts_heure/24):.2f} heures par jour.\")"
   ]
  },
  {
   "cell_type": "code",
   "execution_count": 68,
   "metadata": {},
   "outputs": [
    {
     "name": "stdout",
     "output_type": "stream",
     "text": [
      "45.75 heures regardées, soit 1.91 jours sur un total de 1.00 jours étudiés.\n",
      "Ou encore 4 streamers regardés en parallèle pendant 11.44 heures par jour.\n"
     ]
    }
   ],
   "source": [
    "temps(viewers_1D_count.quantile(0.9999), 4)"
   ]
  },
  {
   "cell_type": "markdown",
   "metadata": {},
   "source": [
    "1 personne sur 10000 est soit un bot, soit un dégénéré qui mutliplexe 2 streams en même temps pendant 19h par jour."
   ]
  },
  {
   "cell_type": "code",
   "execution_count": 69,
   "metadata": {},
   "outputs": [],
   "source": [
    "def RejectedPseudo(minHeure=1):\n",
    "    temp = list(viewers_1D_count[viewers_1D_count>viewers_1D_count.quantile(0.9999)].index) + list(viewers_1D_count[viewers_1D_count<4*minHeure].index)\n",
    "    print(f\"{len(temp)} viewers rejetés sur {len(viewers_1D_count)}\")\n",
    "    return temp"
   ]
  },
  {
   "cell_type": "code",
   "execution_count": 70,
   "metadata": {},
   "outputs": [
    {
     "name": "stdout",
     "output_type": "stream",
     "text": [
      "2255254 viewers rejetés sur 4855261\n"
     ]
    }
   ],
   "source": [
    "exiled = RejectedPseudo()"
   ]
  },
  {
   "cell_type": "code",
   "execution_count": 71,
   "metadata": {},
   "outputs": [],
   "source": [
    "# 35s c'est insane pandas ptdr\n",
    "gephi = relations[['Viewers_list', 'Streamer']].explode('Viewers_list')\n",
    "gephi = gephi.rename(columns={'Viewers_list': 'source', 'Streamer': 'target'})"
   ]
  },
  {
   "cell_type": "code",
   "execution_count": 72,
   "metadata": {},
   "outputs": [],
   "source": [
    "# 30s\n",
    "gephi = gephi[~gephi['source'].isin(exiled)]"
   ]
  },
  {
   "cell_type": "code",
   "execution_count": null,
   "metadata": {},
   "outputs": [],
   "source": [
    "\n",
    "streamerviewer = gephi['target'].unique()\n",
    "gephi = gephi[~gephi['source'].isin(streamerviewer)]"
   ]
  },
  {
   "cell_type": "code",
   "execution_count": 73,
   "metadata": {},
   "outputs": [],
   "source": [
    "gephi['temp']=1"
   ]
  },
  {
   "cell_type": "code",
   "execution_count": 74,
   "metadata": {},
   "outputs": [],
   "source": [
    "# 1m20s\n",
    "gephi = gephi.groupby(by=['source', 'target']).agg({'temp':'count'})\n",
    "gephi = gephi.reset_index().rename(columns={'temp': 'weight'})"
   ]
  },
  {
   "cell_type": "code",
   "execution_count": 75,
   "metadata": {},
   "outputs": [
    {
     "data": {
      "text/html": [
       "<div>\n",
       "<style scoped>\n",
       "    .dataframe tbody tr th:only-of-type {\n",
       "        vertical-align: middle;\n",
       "    }\n",
       "\n",
       "    .dataframe tbody tr th {\n",
       "        vertical-align: top;\n",
       "    }\n",
       "\n",
       "    .dataframe thead th {\n",
       "        text-align: right;\n",
       "    }\n",
       "</style>\n",
       "<table border=\"1\" class=\"dataframe\">\n",
       "  <thead>\n",
       "    <tr style=\"text-align: right;\">\n",
       "      <th></th>\n",
       "      <th>source</th>\n",
       "      <th>target</th>\n",
       "      <th>weight</th>\n",
       "    </tr>\n",
       "  </thead>\n",
       "  <tbody>\n",
       "    <tr>\n",
       "      <th>0</th>\n",
       "      <td>000000000000</td>\n",
       "      <td>Distortion2</td>\n",
       "      <td>1</td>\n",
       "    </tr>\n",
       "    <tr>\n",
       "      <th>1</th>\n",
       "      <td>000000000000</td>\n",
       "      <td>Jerma985</td>\n",
       "      <td>7</td>\n",
       "    </tr>\n",
       "    <tr>\n",
       "      <th>2</th>\n",
       "      <td>000000000000</td>\n",
       "      <td>forsen</td>\n",
       "      <td>1</td>\n",
       "    </tr>\n",
       "    <tr>\n",
       "      <th>3</th>\n",
       "      <td>00000000000000</td>\n",
       "      <td>xQcOW</td>\n",
       "      <td>8</td>\n",
       "    </tr>\n",
       "    <tr>\n",
       "      <th>4</th>\n",
       "      <td>0000000000000000</td>\n",
       "      <td>Ninja</td>\n",
       "      <td>4</td>\n",
       "    </tr>\n",
       "  </tbody>\n",
       "</table>\n",
       "</div>"
      ],
      "text/plain": [
       "             source       target  weight\n",
       "0      000000000000  Distortion2       1\n",
       "1      000000000000     Jerma985       7\n",
       "2      000000000000       forsen       1\n",
       "3    00000000000000        xQcOW       8\n",
       "4  0000000000000000        Ninja       4"
      ]
     },
     "execution_count": 75,
     "metadata": {},
     "output_type": "execute_result"
    }
   ],
   "source": [
    "gephi.head()"
   ]
  },
  {
   "cell_type": "code",
   "execution_count": 76,
   "metadata": {},
   "outputs": [
    {
     "data": {
      "text/plain": [
       "(4075553, 3)"
      ]
     },
     "execution_count": 76,
     "metadata": {},
     "output_type": "execute_result"
    }
   ],
   "source": [
    "gephi.shape"
   ]
  },
  {
   "cell_type": "code",
   "execution_count": 25,
   "metadata": {},
   "outputs": [],
   "source": [
    "# 30s\n",
    "gephi.to_csv('twitchGephi.csv', mode='w', encoding='utf-8')"
   ]
  },
  {
   "cell_type": "code",
   "execution_count": null,
   "metadata": {},
   "outputs": [],
   "source": []
  }
 ],
 "metadata": {
  "kernelspec": {
   "display_name": "Python 3.10.6 64-bit",
   "language": "python",
   "name": "python3"
  },
  "language_info": {
   "codemirror_mode": {
    "name": "ipython",
    "version": 3
   },
   "file_extension": ".py",
   "mimetype": "text/x-python",
   "name": "python",
   "nbconvert_exporter": "python",
   "pygments_lexer": "ipython3",
   "version": "3.10.6"
  },
  "orig_nbformat": 4,
  "vscode": {
   "interpreter": {
    "hash": "837c519a48be08d8749c778cb72b9b5aac116a087aa5d1d99ee0359dceff73e6"
   }
  }
 },
 "nbformat": 4,
 "nbformat_minor": 2
}
