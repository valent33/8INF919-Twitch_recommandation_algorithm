{
 "cells": [
  {
   "cell_type": "code",
   "execution_count": 1,
   "metadata": {},
   "outputs": [],
   "source": [
    "import glob\n",
    "import pandas as pd\n",
    "# import numpy as np"
   ]
  },
  {
   "cell_type": "code",
   "execution_count": 9,
   "metadata": {},
   "outputs": [],
   "source": [
    "relations = pd.read_csv(\"data\\World2022-04-17.csv\", header=None)\n",
    "relations = relations.rename(columns={0:\"Viewers_list\", 1:\"Streamer\", 2:\"Date\", 3:\"Category\", 4:\"Viewers\", 5:\"Language\"})"
   ]
  },
  {
   "cell_type": "code",
   "execution_count": 10,
   "metadata": {},
   "outputs": [
    {
     "data": {
      "text/plain": [
       "2032"
      ]
     },
     "execution_count": 10,
     "metadata": {},
     "output_type": "execute_result"
    }
   ],
   "source": [
    "relations[\"Viewers\"].min()"
   ]
  },
  {
   "cell_type": "code",
   "execution_count": 39,
   "metadata": {},
   "outputs": [],
   "source": [
    "# 1m40 \n",
    "# all_relations = glob.glob(\"mars13-20/relations*.csv\")\n",
    "# relations = pd.concat((pd.read_csv(f, header=None) for f in all_relations), axis=0, ignore_index=True)\n",
    "# relations = relations.rename(columns={0:\"Viewers_list\", 1:\"Streamer\", 2:\"WatchTime\"})\n",
    "# print(f\" ** Memory usage of the file - {sum(relations.memory_usage()) * 0.000001} MB for {len(relations.index)} Rows\")"
   ]
  },
  {
   "cell_type": "code",
   "execution_count": 7,
   "metadata": {},
   "outputs": [],
   "source": [
    "# 2m20s rend la liste \"list()\"\n",
    "relations['Viewers_list'] = relations['Viewers_list'].apply(eval)"
   ]
  },
  {
   "cell_type": "code",
   "execution_count": 8,
   "metadata": {},
   "outputs": [],
   "source": [
    "# relations = relations[relations['Viewers_list'].apply(lambda x: len(x) >= 10000)]"
   ]
  },
  {
   "cell_type": "code",
   "execution_count": 10,
   "metadata": {},
   "outputs": [
    {
     "data": {
      "text/html": [
       "<div>\n",
       "<style scoped>\n",
       "    .dataframe tbody tr th:only-of-type {\n",
       "        vertical-align: middle;\n",
       "    }\n",
       "\n",
       "    .dataframe tbody tr th {\n",
       "        vertical-align: top;\n",
       "    }\n",
       "\n",
       "    .dataframe thead th {\n",
       "        text-align: right;\n",
       "    }\n",
       "</style>\n",
       "<table border=\"1\" class=\"dataframe\">\n",
       "  <thead>\n",
       "    <tr style=\"text-align: right;\">\n",
       "      <th></th>\n",
       "      <th>Viewers_list</th>\n",
       "      <th>Streamer</th>\n",
       "      <th>Date</th>\n",
       "      <th>Category</th>\n",
       "      <th>Viewers</th>\n",
       "      <th>Language</th>\n",
       "    </tr>\n",
       "  </thead>\n",
       "  <tbody>\n",
       "    <tr>\n",
       "      <th>0</th>\n",
       "      <td>[0000moonlight, 001133557799, 0025, 003ny, 007...</td>\n",
       "      <td>Emiru</td>\n",
       "      <td>2022-04-01 00:00:03</td>\n",
       "      <td>Just Chatting</td>\n",
       "      <td>45368</td>\n",
       "      <td>en</td>\n",
       "    </tr>\n",
       "    <tr>\n",
       "      <th>1</th>\n",
       "      <td>[000_fnwortas_000, 008alexr, 00animatech, 00bu...</td>\n",
       "      <td>ROSHTEIN</td>\n",
       "      <td>2022-04-01 00:00:03</td>\n",
       "      <td>Slots</td>\n",
       "      <td>34077</td>\n",
       "      <td>en</td>\n",
       "    </tr>\n",
       "    <tr>\n",
       "      <th>2</th>\n",
       "      <td>[000jp, 00od, 00saintjimmy00, 02hiiro, 02lynne...</td>\n",
       "      <td>HasanAbi</td>\n",
       "      <td>2022-04-01 00:00:03</td>\n",
       "      <td>Just Chatting</td>\n",
       "      <td>30861</td>\n",
       "      <td>en</td>\n",
       "    </tr>\n",
       "    <tr>\n",
       "      <th>3</th>\n",
       "      <td>[000008, 003ray_, 00601289, 007225, 007davis_t...</td>\n",
       "      <td>TSM_ImperialHal</td>\n",
       "      <td>2022-04-01 00:00:03</td>\n",
       "      <td>Apex Legends</td>\n",
       "      <td>29138</td>\n",
       "      <td>en</td>\n",
       "    </tr>\n",
       "    <tr>\n",
       "      <th>4</th>\n",
       "      <td>[0000_kevin0000, 000maurojunior000, 006627, 00...</td>\n",
       "      <td>alanzoka</td>\n",
       "      <td>2022-04-01 00:00:03</td>\n",
       "      <td>Midnight Ghost Hunt</td>\n",
       "      <td>28314</td>\n",
       "      <td>pt</td>\n",
       "    </tr>\n",
       "  </tbody>\n",
       "</table>\n",
       "</div>"
      ],
      "text/plain": [
       "                                        Viewers_list         Streamer  \\\n",
       "0  [0000moonlight, 001133557799, 0025, 003ny, 007...            Emiru   \n",
       "1  [000_fnwortas_000, 008alexr, 00animatech, 00bu...         ROSHTEIN   \n",
       "2  [000jp, 00od, 00saintjimmy00, 02hiiro, 02lynne...         HasanAbi   \n",
       "3  [000008, 003ray_, 00601289, 007225, 007davis_t...  TSM_ImperialHal   \n",
       "4  [0000_kevin0000, 000maurojunior000, 006627, 00...         alanzoka   \n",
       "\n",
       "                  Date             Category  Viewers Language  \n",
       "0  2022-04-01 00:00:03        Just Chatting    45368       en  \n",
       "1  2022-04-01 00:00:03                Slots    34077       en  \n",
       "2  2022-04-01 00:00:03        Just Chatting    30861       en  \n",
       "3  2022-04-01 00:00:03         Apex Legends    29138       en  \n",
       "4  2022-04-01 00:00:03  Midnight Ghost Hunt    28314       pt  "
      ]
     },
     "execution_count": 10,
     "metadata": {},
     "output_type": "execute_result"
    }
   ],
   "source": [
    "relations.head()"
   ]
  },
  {
   "cell_type": "code",
   "execution_count": 11,
   "metadata": {},
   "outputs": [],
   "source": [
    "def to_1D(series):\n",
    "    return pd.Series([x for _list in series for x in _list])"
   ]
  },
  {
   "cell_type": "code",
   "execution_count": 12,
   "metadata": {},
   "outputs": [],
   "source": [
    "# 45s \n",
    "viewers_1D = to_1D(relations[\"Viewers_list\"])\n",
    "viewers_1D_count = viewers_1D.value_counts()"
   ]
  },
  {
   "cell_type": "code",
   "execution_count": 63,
   "metadata": {},
   "outputs": [],
   "source": [
    "# WARNING DO NOT EXECUTE TWICE\n",
    "# viewers_1D.to_csv(\"mars13-20/viewers1D.csv\", mode='a')"
   ]
  },
  {
   "cell_type": "code",
   "execution_count": 14,
   "metadata": {},
   "outputs": [
    {
     "data": {
      "text/plain": [
       "commanderroot     9260\n",
       "spiketrapclair    9039\n",
       "kaxips06          8302\n",
       "aten              7977\n",
       "elysian           7809\n",
       "                  ... \n",
       "tgfujfdry            1\n",
       "tgrva11              1\n",
       "th_gitt              1\n",
       "the_cosmic_egg       1\n",
       "zharfantea17         1\n",
       "Length: 7527091, dtype: int64"
      ]
     },
     "execution_count": 14,
     "metadata": {},
     "output_type": "execute_result"
    }
   ],
   "source": [
    "viewers_1D_count"
   ]
  },
  {
   "cell_type": "markdown",
   "metadata": {},
   "source": [
    "Les valeurs à suivre sont en quarts d'heure."
   ]
  },
  {
   "cell_type": "code",
   "execution_count": 64,
   "metadata": {},
   "outputs": [
    {
     "data": {
      "text/plain": [
       "commanderroot     1818\n",
       "spiketrapclair    1682\n",
       "aten              1594\n",
       "dtype: int64"
      ]
     },
     "execution_count": 64,
     "metadata": {},
     "output_type": "execute_result"
    }
   ],
   "source": [
    "viewers_1D_count.head(3) # les bots :)"
   ]
  },
  {
   "cell_type": "code",
   "execution_count": 15,
   "metadata": {},
   "outputs": [
    {
     "data": {
      "text/plain": [
       "count    7.527091e+06\n",
       "mean     9.257856e+00\n",
       "std      1.712691e+01\n",
       "min      1.000000e+00\n",
       "25%      2.000000e+00\n",
       "50%      5.000000e+00\n",
       "75%      1.100000e+01\n",
       "max      9.260000e+03\n",
       "dtype: float64"
      ]
     },
     "execution_count": 15,
     "metadata": {},
     "output_type": "execute_result"
    }
   ],
   "source": [
    "viewers_1D_count.describe()"
   ]
  },
  {
   "cell_type": "code",
   "execution_count": 66,
   "metadata": {},
   "outputs": [],
   "source": [
    "# Quarts_heure = (np.datetime64(\"2022-02-14 00:00\")-np.datetime64(\"2022-02-13 00:00\")).astype(int)/15\n",
    "# Quarts_heure\n",
    "Quarts_heure = 96"
   ]
  },
  {
   "cell_type": "code",
   "execution_count": 67,
   "metadata": {},
   "outputs": [],
   "source": [
    "def temps(x, streamersRegardés=2):\n",
    "    print(f\"{x/4:.2f} heures regardées, soit {x/4/24:.2f} jours sur un total de {Quarts_heure/4/24:.2f} jours étudiés.\")\n",
    "    print(f\"Ou encore {streamersRegardés} streamers regardés en parallèle pendant {(x/streamersRegardés)/(Quarts_heure/24):.2f} heures par jour.\")"
   ]
  },
  {
   "cell_type": "code",
   "execution_count": 68,
   "metadata": {},
   "outputs": [
    {
     "name": "stdout",
     "output_type": "stream",
     "text": [
      "45.75 heures regardées, soit 1.91 jours sur un total de 1.00 jours étudiés.\n",
      "Ou encore 4 streamers regardés en parallèle pendant 11.44 heures par jour.\n"
     ]
    }
   ],
   "source": [
    "temps(viewers_1D_count.quantile(0.9999), 4)"
   ]
  },
  {
   "cell_type": "markdown",
   "metadata": {},
   "source": [
    "1 personne sur 10000 est soit un bot, soit un dégénéré qui mutliplexe 2 streams en même temps pendant 19h par jour."
   ]
  },
  {
   "cell_type": "code",
   "execution_count": 69,
   "metadata": {},
   "outputs": [],
   "source": [
    "def RejectedPseudo(minHeure=1):\n",
    "    temp = list(viewers_1D_count[viewers_1D_count>viewers_1D_count.quantile(0.9999)].index) + list(viewers_1D_count[viewers_1D_count<4*minHeure].index)\n",
    "    print(f\"{len(temp)} viewers rejetés sur {len(viewers_1D_count)}\")\n",
    "    return temp"
   ]
  },
  {
   "cell_type": "code",
   "execution_count": 70,
   "metadata": {},
   "outputs": [
    {
     "name": "stdout",
     "output_type": "stream",
     "text": [
      "2255254 viewers rejetés sur 4855261\n"
     ]
    }
   ],
   "source": [
    "exiled = RejectedPseudo()"
   ]
  },
  {
   "cell_type": "code",
   "execution_count": 71,
   "metadata": {},
   "outputs": [],
   "source": [
    "# 35s c'est insane pandas ptdr\n",
    "gephi = relations[['Viewers_list', 'Streamer']].explode('Viewers_list')\n",
    "gephi = gephi.rename(columns={'Viewers_list': 'source', 'Streamer': 'target'})"
   ]
  },
  {
   "cell_type": "code",
   "execution_count": 72,
   "metadata": {},
   "outputs": [],
   "source": [
    "# 30s\n",
    "gephi = gephi[~gephi['source'].isin(exiled)]"
   ]
  },
  {
   "cell_type": "code",
   "execution_count": null,
   "metadata": {},
   "outputs": [],
   "source": [
    "\n",
    "streamerviewer = gephi['target'].unique()\n",
    "gephi = gephi[~gephi['source'].isin(streamerviewer)]"
   ]
  },
  {
   "cell_type": "code",
   "execution_count": 73,
   "metadata": {},
   "outputs": [],
   "source": [
    "gephi['temp']=1"
   ]
  },
  {
   "cell_type": "code",
   "execution_count": 74,
   "metadata": {},
   "outputs": [],
   "source": [
    "# 1m20s\n",
    "gephi = gephi.groupby(by=['source', 'target']).agg({'temp':'count'})\n",
    "gephi = gephi.reset_index().rename(columns={'temp': 'weight'})"
   ]
  },
  {
   "cell_type": "code",
   "execution_count": 75,
   "metadata": {},
   "outputs": [
    {
     "data": {
      "text/html": [
       "<div>\n",
       "<style scoped>\n",
       "    .dataframe tbody tr th:only-of-type {\n",
       "        vertical-align: middle;\n",
       "    }\n",
       "\n",
       "    .dataframe tbody tr th {\n",
       "        vertical-align: top;\n",
       "    }\n",
       "\n",
       "    .dataframe thead th {\n",
       "        text-align: right;\n",
       "    }\n",
       "</style>\n",
       "<table border=\"1\" class=\"dataframe\">\n",
       "  <thead>\n",
       "    <tr style=\"text-align: right;\">\n",
       "      <th></th>\n",
       "      <th>source</th>\n",
       "      <th>target</th>\n",
       "      <th>weight</th>\n",
       "    </tr>\n",
       "  </thead>\n",
       "  <tbody>\n",
       "    <tr>\n",
       "      <th>0</th>\n",
       "      <td>000000000000</td>\n",
       "      <td>Distortion2</td>\n",
       "      <td>1</td>\n",
       "    </tr>\n",
       "    <tr>\n",
       "      <th>1</th>\n",
       "      <td>000000000000</td>\n",
       "      <td>Jerma985</td>\n",
       "      <td>7</td>\n",
       "    </tr>\n",
       "    <tr>\n",
       "      <th>2</th>\n",
       "      <td>000000000000</td>\n",
       "      <td>forsen</td>\n",
       "      <td>1</td>\n",
       "    </tr>\n",
       "    <tr>\n",
       "      <th>3</th>\n",
       "      <td>00000000000000</td>\n",
       "      <td>xQcOW</td>\n",
       "      <td>8</td>\n",
       "    </tr>\n",
       "    <tr>\n",
       "      <th>4</th>\n",
       "      <td>0000000000000000</td>\n",
       "      <td>Ninja</td>\n",
       "      <td>4</td>\n",
       "    </tr>\n",
       "  </tbody>\n",
       "</table>\n",
       "</div>"
      ],
      "text/plain": [
       "             source       target  weight\n",
       "0      000000000000  Distortion2       1\n",
       "1      000000000000     Jerma985       7\n",
       "2      000000000000       forsen       1\n",
       "3    00000000000000        xQcOW       8\n",
       "4  0000000000000000        Ninja       4"
      ]
     },
     "execution_count": 75,
     "metadata": {},
     "output_type": "execute_result"
    }
   ],
   "source": [
    "gephi.head()"
   ]
  },
  {
   "cell_type": "code",
   "execution_count": 76,
   "metadata": {},
   "outputs": [
    {
     "data": {
      "text/plain": [
       "(4075553, 3)"
      ]
     },
     "execution_count": 76,
     "metadata": {},
     "output_type": "execute_result"
    }
   ],
   "source": [
    "gephi.shape"
   ]
  },
  {
   "cell_type": "code",
   "execution_count": 25,
   "metadata": {},
   "outputs": [],
   "source": [
    "# 30s\n",
    "gephi.to_csv('twitchGephi.csv', mode='w', encoding='utf-8')"
   ]
  },
  {
   "cell_type": "code",
   "execution_count": null,
   "metadata": {},
   "outputs": [],
   "source": []
  }
 ],
 "metadata": {
  "kernelspec": {
   "display_name": "Python 3.10.6 64-bit",
   "language": "python",
   "name": "python3"
  },
  "language_info": {
   "codemirror_mode": {
    "name": "ipython",
    "version": 3
   },
   "file_extension": ".py",
   "mimetype": "text/x-python",
   "name": "python",
   "nbconvert_exporter": "python",
   "pygments_lexer": "ipython3",
   "version": "3.10.6"
  },
  "orig_nbformat": 4,
  "vscode": {
   "interpreter": {
    "hash": "837c519a48be08d8749c778cb72b9b5aac116a087aa5d1d99ee0359dceff73e6"
   }
  }
 },
 "nbformat": 4,
 "nbformat_minor": 2
}
